{
  "nbformat": 4,
  "nbformat_minor": 0,
  "metadata": {
    "colab": {
      "name": "simple_computer_vision_model.ipynb",
      "provenance": [],
      "authorship_tag": "ABX9TyP+10NOXHHqR1AjjSvq1z77",
      "include_colab_link": true
    },
    "kernelspec": {
      "name": "python3",
      "display_name": "Python 3"
    }
  },
  "cells": [
    {
      "cell_type": "markdown",
      "metadata": {
        "id": "view-in-github",
        "colab_type": "text"
      },
      "source": [
        "<a href=\"https://colab.research.google.com/github/hrampadarath/Deep_Learning_examples/blob/main/simple_computer_vision_model.ipynb\" target=\"_parent\"><img src=\"https://colab.research.google.com/assets/colab-badge.svg\" alt=\"Open In Colab\"/></a>"
      ]
    },
    {
      "cell_type": "markdown",
      "metadata": {
        "id": "8vk9ciXAF77-"
      },
      "source": [
        "## Simple Computer Vision Model using Keras\n",
        "\n",
        "A referesher on the basic parts of a CV modele with Keras. Following Chapter 2 from Hands-On Computer Vision with TensorFlow 2 Benjamin Planche & Eliot Andres\n",
        "\n"
      ]
    },
    {
      "cell_type": "code",
      "metadata": {
        "id": "TdGO7il5GZmu"
      },
      "source": [
        "import tensorflow as tf"
      ],
      "execution_count": 1,
      "outputs": []
    },
    {
      "cell_type": "code",
      "metadata": {
        "id": "jN2Eg1RlF7CZ"
      },
      "source": [
        "num_classes = 10\n",
        "img_rows, img_cols = 28, 28\n",
        "num_channels = 1\n",
        "input_shape = (img_rows, img_cols, num_channels)"
      ],
      "execution_count": 2,
      "outputs": []
    },
    {
      "cell_type": "code",
      "metadata": {
        "id": "MXTmLr13GxRb"
      },
      "source": [
        "#1. load data\n",
        "\n",
        "(x_train, y_train), (x_test, y_test) = tf.keras.datasets.mnist.load_data()\n",
        "x_train, x_test = x_train / 255.0, x_test / 255.0 # normalise data "
      ],
      "execution_count": 3,
      "outputs": []
    },
    {
      "cell_type": "code",
      "metadata": {
        "id": "62XTnnXsHKfY"
      },
      "source": [
        "#2 build model - fully connected (dense) layers\n",
        "\n",
        "model = tf.keras.models.Sequential() #for linear stack  of layers\n",
        "model.add(tf.keras.layers.Flatten()) # flatten the image matricis to 1d vectors\n",
        "model.add(tf.keras.layers.Dense(128, activation=\"relu\")) # hidden layer of 128 activations\n",
        "model.add(tf.keras.layers.Dense(num_classes, activation=\"softmax\")) # output layer"
      ],
      "execution_count": 4,
      "outputs": []
    },
    {
      "cell_type": "code",
      "metadata": {
        "id": "fap5S-TEHPS5"
      },
      "source": [
        "#3 . train the model\n",
        "\n",
        "model.compile(optimizer=\"sgd\",\n",
        "              loss=\"sparse_categorical_crossentropy\",\n",
        "              metrics=[\"accuracy\"])"
      ],
      "execution_count": 5,
      "outputs": []
    },
    {
      "cell_type": "code",
      "metadata": {
        "colab": {
          "base_uri": "https://localhost:8080/"
        },
        "id": "PuDc2HQeIUgk",
        "outputId": "5b6a47fc-e6dd-4a42-8f3d-d420f64b076d"
      },
      "source": [
        "history = model.fit(x_train, \n",
        "          y_train, \n",
        "          epochs=10, \n",
        "          verbose=1, \n",
        "          validation_data=(x_test, y_test))"
      ],
      "execution_count": 6,
      "outputs": [
        {
          "output_type": "stream",
          "text": [
            "Epoch 1/10\n",
            "1875/1875 [==============================] - 5s 2ms/step - loss: 1.0203 - accuracy: 0.7337 - val_loss: 0.3528 - val_accuracy: 0.9062\n",
            "Epoch 2/10\n",
            "1875/1875 [==============================] - 4s 2ms/step - loss: 0.3470 - accuracy: 0.9035 - val_loss: 0.2906 - val_accuracy: 0.9193\n",
            "Epoch 3/10\n",
            "1875/1875 [==============================] - 4s 2ms/step - loss: 0.3001 - accuracy: 0.9155 - val_loss: 0.2591 - val_accuracy: 0.9268\n",
            "Epoch 4/10\n",
            "1875/1875 [==============================] - 4s 2ms/step - loss: 0.2611 - accuracy: 0.9271 - val_loss: 0.2344 - val_accuracy: 0.9335\n",
            "Epoch 5/10\n",
            "1875/1875 [==============================] - 4s 2ms/step - loss: 0.2364 - accuracy: 0.9356 - val_loss: 0.2174 - val_accuracy: 0.9377\n",
            "Epoch 6/10\n",
            "1875/1875 [==============================] - 4s 2ms/step - loss: 0.2187 - accuracy: 0.9385 - val_loss: 0.2024 - val_accuracy: 0.9419\n",
            "Epoch 7/10\n",
            "1875/1875 [==============================] - 4s 2ms/step - loss: 0.1986 - accuracy: 0.9444 - val_loss: 0.1897 - val_accuracy: 0.9459\n",
            "Epoch 8/10\n",
            "1875/1875 [==============================] - 4s 2ms/step - loss: 0.1852 - accuracy: 0.9484 - val_loss: 0.1790 - val_accuracy: 0.9486\n",
            "Epoch 9/10\n",
            "1875/1875 [==============================] - 4s 2ms/step - loss: 0.1714 - accuracy: 0.9519 - val_loss: 0.1687 - val_accuracy: 0.9520\n",
            "Epoch 10/10\n",
            "1875/1875 [==============================] - 4s 2ms/step - loss: 0.1638 - accuracy: 0.9540 - val_loss: 0.1605 - val_accuracy: 0.9548\n"
          ],
          "name": "stdout"
        }
      ]
    },
    {
      "cell_type": "code",
      "metadata": {
        "colab": {
          "base_uri": "https://localhost:8080/",
          "height": 295
        },
        "id": "7KOoXsfzJBod",
        "outputId": "06cc1dbb-2321-4ec3-d8b1-f52d86f5f76d"
      },
      "source": [
        "from matplotlib import pyplot as plt\n",
        "plt.plot(history.history['accuracy'])\n",
        "plt.plot(history.history['val_accuracy'])\n",
        "plt.title('model accuracy')\n",
        "plt.ylabel('accuracy')\n",
        "plt.xlabel('epoch')\n",
        "plt.legend(['train', 'val'], loc='upper left')\n",
        "plt.show()"
      ],
      "execution_count": 7,
      "outputs": [
        {
          "output_type": "display_data",
          "data": {
            "image/png": "[encoded data removed]",
            "text/plain": [
              "<Figure size 432x288 with 1 Axes>"
            ]
          },
          "metadata": {
            "tags": [],
            "needs_background": "light"
          }
        }
      ]
    },
    {
      "cell_type": "code",
      "metadata": {
        "colab": {
          "base_uri": "https://localhost:8080/",
          "height": 295
        },
        "id": "DyfpVOrcJVNn",
        "outputId": "82569c64-44f1-45fe-9876-0d7f0c550a19"
      },
      "source": [
        "plt.plot(history.history['loss'])\n",
        "plt.plot(history.history['val_loss'])\n",
        "plt.title('model loss')\n",
        "plt.ylabel('loss')\n",
        "plt.xlabel('epoch')\n",
        "plt.legend(['train', 'val'], loc='upper left')\n",
        "plt.show()"
      ],
      "execution_count": 8,
      "outputs": [
        {
          "output_type": "display_data",
          "data": {
            "image/png": "[encoded data removed]",
            "text/plain": [
              "<Figure size 432x288 with 1 Axes>"
            ]
          },
          "metadata": {
            "tags": [],
            "needs_background": "light"
          }
        }
      ]
    },
    {
      "cell_type": "code",
      "metadata": {
        "id": "SX-c7JHZJddc"
      },
      "source": [
        ""
      ],
      "execution_count": 8,
      "outputs": []
    }
  ]
}